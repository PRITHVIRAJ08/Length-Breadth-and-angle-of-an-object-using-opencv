{
 "cells": [
  {
   "cell_type": "code",
   "execution_count": 2,
   "id": "41815242",
   "metadata": {},
   "outputs": [
    {
     "name": "stdout",
     "output_type": "stream",
     "text": [
      "Requirement already satisfied: opencv-python in c:\\users\\prithvi\\anaconda3\\lib\\site-packages (4.9.0.80)\n",
      "Requirement already satisfied: numpy>=1.21.2 in c:\\users\\prithvi\\anaconda3\\lib\\site-packages (from opencv-python) (1.24.3)\n",
      "Note: you may need to restart the kernel to use updated packages.\n"
     ]
    }
   ],
   "source": [
    "pip install opencv-python"
   ]
  },
  {
   "cell_type": "code",
   "execution_count": 3,
   "id": "11eaaf10",
   "metadata": {},
   "outputs": [],
   "source": [
    "import cv2"
   ]
  },
  {
   "cell_type": "markdown",
   "id": "4b600050",
   "metadata": {},
   "source": [
    "# Length and breadth of an object"
   ]
  },
  {
   "cell_type": "code",
   "execution_count": 4,
   "id": "acdbdd32",
   "metadata": {},
   "outputs": [],
   "source": [
    "import cv2\n",
    "from random import randint\n",
    "\n",
    "# Define your conversion factor (pixels to centimeters)\n",
    "conversion_factor = 0.1  # This is just an example, you need to replace it with your actual conversion factor\n",
    "\n",
    "dnn = cv2.dnn.readNet('yolov4-tiny.weights','yolov4-tiny (1).cfg')\n",
    "model = cv2.dnn_DetectionModel(dnn)\n",
    "model.setInputParams(size=(416, 416), scale=1/255, swapRB=True)\n",
    "\n",
    "with open('classes.txt') as f:\n",
    "    classes = f.read().strip().splitlines()\n",
    "\n",
    "capture = cv2.VideoCapture(0)\n",
    "capture.set(cv2.CAP_PROP_FRAME_WIDTH, 1280)\n",
    "capture.set(cv2.CAP_PROP_FRAME_HEIGHT, 720)\n",
    "\n",
    "color_map = {}\n",
    "\n",
    "while True:\n",
    "    # frame capture\n",
    "    _, frame = capture.read() \n",
    "    frame = cv2.flip(frame,1)\n",
    "\n",
    "    # object detection\n",
    "    class_ids, confidences, boxes = model.detect(frame)\n",
    "    for id, confidence, box in zip(class_ids, confidences, boxes):\n",
    "        x, y, w, h = box\n",
    "        obj_class = classes[id]\n",
    "\n",
    "        # Calculate the width and height of the bounding box\n",
    "        box_width_cm = w * conversion_factor\n",
    "        box_height_cm = h * conversion_factor\n",
    "\n",
    "        # Draw rectangle and text\n",
    "        if obj_class not in color_map:\n",
    "            color = (randint(0, 255), randint(0, 255), randint(0, 255))\n",
    "            color_map[obj_class] = color\n",
    "        else:\n",
    "            color = color_map[obj_class]\n",
    "\n",
    "        cv2.putText(frame, f'{obj_class.title()} {format(confidence, \".2f\")}', (x, y-10), cv2.FONT_HERSHEY_DUPLEX, 1, color, 2)\n",
    "        cv2.rectangle(frame, (x, y), (x + w, y + h), color, 2)\n",
    "\n",
    "        # Measure length and breadth\n",
    "        cv2.putText(frame, f'Length: {box_width_cm} cm', (x, y + h + 20), cv2.FONT_HERSHEY_DUPLEX, 0.7, color, 2)\n",
    "        cv2.putText(frame, f'Breadth: {box_height_cm} cm', (x, y + h + 40), cv2.FONT_HERSHEY_DUPLEX, 0.7, color, 2)\n",
    "        \n",
    "    cv2.imshow('Video Capture', frame)\n",
    "    key = cv2.waitKey(1) # freezes frame for 1ms\n",
    "\n",
    "    if key == 27: # esc key to exit\n",
    "        break\n",
    "\n",
    "    if key == 13: # enter key to reset colors\n",
    "        color_map = {}\n",
    "\n",
    "capture.release()\n",
    "cv2.destroyAllWindows()\n"
   ]
  },
  {
   "cell_type": "markdown",
   "id": "6ec4fcba",
   "metadata": {},
   "source": [
    "# Angle of an object"
   ]
  },
  {
   "cell_type": "code",
   "execution_count": 5,
   "id": "1f0b9873",
   "metadata": {},
   "outputs": [],
   "source": [
    "import cv2\n",
    "import math\n",
    "from random import randint\n",
    "\n",
    "# Define your conversion factor (pixels to centimeters)\n",
    "conversion_factor = 0.1  # This is just an example, you need to replace it with your actual conversion factor\n",
    "\n",
    "dnn = cv2.dnn.readNet('yolov4-tiny.weights', 'yolov4-tiny (1).cfg')\n",
    "model = cv2.dnn_DetectionModel(dnn)\n",
    "model.setInputParams(size=(416, 416), scale=1/255, swapRB=True)\n",
    "\n",
    "with open('classes.txt') as f:\n",
    "    classes = f.read().strip().splitlines()\n",
    "\n",
    "capture = cv2.VideoCapture(0)\n",
    "capture.set(cv2.CAP_PROP_FRAME_WIDTH, 1280)\n",
    "capture.set(cv2.CAP_PROP_FRAME_HEIGHT, 720)\n",
    "\n",
    "color_map = {}\n",
    "\n",
    "while True:\n",
    "    # frame capture\n",
    "    _, frame = capture.read()\n",
    "    frame = cv2.flip(frame, 1)\n",
    "\n",
    "    # object detection\n",
    "    class_ids, confidences, boxes = model.detect(frame)\n",
    "    for id, confidence, box in zip(class_ids, confidences, boxes):\n",
    "        x, y, w, h = box\n",
    "        obj_class = classes[id]\n",
    "\n",
    "        # Calculate the width and height of the bounding box\n",
    "        box_width_cm = w * conversion_factor\n",
    "        box_height_cm = h * conversion_factor\n",
    "\n",
    "        # Calculate the angle\n",
    "        angle = math.degrees(math.atan(h / w))\n",
    "\n",
    "        # Draw rectangle and text\n",
    "        if obj_class not in color_map:\n",
    "            color = (randint(0, 255), randint(0, 255), randint(0, 255))\n",
    "            color_map[obj_class] = color\n",
    "        else:\n",
    "            color = color_map[obj_class]\n",
    "\n",
    "        cv2.putText(frame, f'{obj_class.title()} {format(confidence, \".2f\")}', (x, y-10), cv2.FONT_HERSHEY_DUPLEX, 1, color, 2)\n",
    "        cv2.rectangle(frame, (x, y), (x + w, y + h), color, 2)\n",
    "\n",
    "        # Measure angle\n",
    "        cv2.putText(frame, f'Angle: {angle} degrees', (x, y + h + 20), cv2.FONT_HERSHEY_DUPLEX, 0.7, color, 2)\n",
    "\n",
    "    cv2.imshow('Video Capture', frame)\n",
    "    key = cv2.waitKey(1)  # freezes frame for 1ms\n",
    "\n",
    "    if key == 27:  # esc key to exit\n",
    "        break\n",
    "\n",
    "    if key == 13:  # enter key to reset colors\n",
    "        color_map = {}\n",
    "\n",
    "capture.release()\n",
    "cv2.destroyAllWindows()\n"
   ]
  },
  {
   "cell_type": "code",
   "execution_count": null,
   "id": "9c5991f1",
   "metadata": {},
   "outputs": [],
   "source": []
  }
 ],
 "metadata": {
  "kernelspec": {
   "display_name": "Python 3 (ipykernel)",
   "language": "python",
   "name": "python3"
  },
  "language_info": {
   "codemirror_mode": {
    "name": "ipython",
    "version": 3
   },
   "file_extension": ".py",
   "mimetype": "text/x-python",
   "name": "python",
   "nbconvert_exporter": "python",
   "pygments_lexer": "ipython3",
   "version": "3.11.5"
  }
 },
 "nbformat": 4,
 "nbformat_minor": 5
}
